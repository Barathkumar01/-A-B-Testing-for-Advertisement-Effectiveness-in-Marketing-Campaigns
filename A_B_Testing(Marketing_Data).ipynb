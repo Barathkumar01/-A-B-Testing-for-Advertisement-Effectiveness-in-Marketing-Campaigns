{
  "metadata": {
    "kernelspec": {
      "language": "python",
      "display_name": "Python 3",
      "name": "python3"
    },
    "language_info": {
      "name": "python",
      "version": "3.10.12",
      "mimetype": "text/x-python",
      "codemirror_mode": {
        "name": "ipython",
        "version": 3
      },
      "pygments_lexer": "ipython3",
      "nbconvert_exporter": "python",
      "file_extension": ".py"
    },
    "kaggle": {
      "accelerator": "none",
      "dataSources": [
        {
          "sourceId": 2724653,
          "sourceType": "datasetVersion",
          "datasetId": 1660669
        }
      ],
      "dockerImageVersionId": 30822,
      "isInternetEnabled": true,
      "language": "python",
      "sourceType": "notebook",
      "isGpuEnabled": false
    },
    "colab": {
      "provenance": []
    }
  },
  "nbformat_minor": 0,
  "nbformat": 4,
  "cells": [
    {
      "cell_type": "markdown",
      "source": [
        "The companies are interested in answering two questions:\n",
        "\n",
        "- Would the campaign be successful?\n",
        "- If the campaign was successful, how much of that success could be attributed to the ads?\n",
        "With the second question in mind, we normally do an A/B test. The majority of the people will be exposed to ads (the experimental group). And a small portion of people (the control group) would instead see a Public Service Announcement (PSA) (or nothing) in the exact size and place the ad would normally be.\n",
        "\n",
        "The idea of the dataset is to analyze the groups, find if the ads were successful, how much the company can make from the ads, and if the difference between the groups is statistically significant."
      ],
      "metadata": {
        "id": "VqxPu9HiDQAJ"
      }
    },
    {
      "cell_type": "markdown",
      "source": [
        "Data dictionary:\n",
        "\n",
        "- Index: Row index\n",
        "- user id: User ID (unique)\n",
        "- test group: If \"ad\" the person saw the advertisement, if \"psa\" they only saw the public service announcement\n",
        "- converted: If a person bought the product then True, else is False\n",
        "- total ads: Amount of ads seen by person\n",
        "- most ads day: Day that the person saw the biggest amount of ads\n",
        "- most ads hour: Hour of day that the person saw the biggest amount of ads"
      ],
      "metadata": {
        "id": "vnPpSvtDDQAK"
      }
    },
    {
      "cell_type": "code",
      "source": [
        "import numpy as np\n",
        "import pandas as pd\n",
        "import matplotlib.pyplot as plt\n",
        "import seaborn as sns\n",
        "import statsmodels.stats.api as sms\n",
        "from statsmodels.stats.proportion import proportions_ztest\n",
        "from scipy.stats import norm\n",
        "import math\n",
        "\n",
        "import warnings\n",
        "warnings.filterwarnings('ignore')"
      ],
      "metadata": {
        "trusted": true,
        "execution": {
          "iopub.status.busy": "2025-01-03T10:01:09.777276Z",
          "iopub.execute_input": "2025-01-03T10:01:09.777595Z",
          "iopub.status.idle": "2025-01-03T10:01:10.784101Z",
          "shell.execute_reply.started": "2025-01-03T10:01:09.777567Z",
          "shell.execute_reply": "2025-01-03T10:01:10.783167Z"
        },
        "id": "TS0xDcvoDQAK"
      },
      "outputs": [],
      "execution_count": 4
    },
    {
      "cell_type": "code",
      "source": [
        "df = pd.read_csv('/content/marketing_AB.csv')"
      ],
      "metadata": {
        "trusted": true,
        "execution": {
          "iopub.status.busy": "2025-01-03T10:01:10.785382Z",
          "iopub.execute_input": "2025-01-03T10:01:10.786183Z",
          "iopub.status.idle": "2025-01-03T10:01:11.330053Z",
          "shell.execute_reply.started": "2025-01-03T10:01:10.78614Z",
          "shell.execute_reply": "2025-01-03T10:01:11.329117Z"
        },
        "id": "9NY1QZVkDQAK"
      },
      "outputs": [],
      "execution_count": 5
    },
    {
      "cell_type": "code",
      "source": [
        "df.head()"
      ],
      "metadata": {
        "trusted": true,
        "execution": {
          "iopub.status.busy": "2025-01-03T10:01:11.331585Z",
          "iopub.execute_input": "2025-01-03T10:01:11.331991Z",
          "iopub.status.idle": "2025-01-03T10:01:11.345447Z",
          "shell.execute_reply.started": "2025-01-03T10:01:11.331947Z",
          "shell.execute_reply": "2025-01-03T10:01:11.344473Z"
        },
        "colab": {
          "base_uri": "https://localhost:8080/",
          "height": 206
        },
        "id": "drkVuaWuDQAL",
        "outputId": "8be2ce87-0bcc-49b4-c110-b2cd875b00c8"
      },
      "outputs": [
        {
          "output_type": "execute_result",
          "data": {
            "text/plain": [
              "   Unnamed: 0  user id test group  converted  total ads most ads day  \\\n",
              "0           0  1069124         ad      False        130       Monday   \n",
              "1           1  1119715         ad      False         93      Tuesday   \n",
              "2           2  1144181         ad      False         21      Tuesday   \n",
              "3           3  1435133         ad      False        355      Tuesday   \n",
              "4           4  1015700         ad      False        276       Friday   \n",
              "\n",
              "   most ads hour  \n",
              "0             20  \n",
              "1             22  \n",
              "2             18  \n",
              "3             10  \n",
              "4             14  "
            ],
            "text/html": [
              "\n",
              "  <div id=\"df-ac4a03da-625d-4305-a901-731aadebeefa\" class=\"colab-df-container\">\n",
              "    <div>\n",
              "<style scoped>\n",
              "    .dataframe tbody tr th:only-of-type {\n",
              "        vertical-align: middle;\n",
              "    }\n",
              "\n",
              "    .dataframe tbody tr th {\n",
              "        vertical-align: top;\n",
              "    }\n",
              "\n",
              "    .dataframe thead th {\n",
              "        text-align: right;\n",
              "    }\n",
              "</style>\n",
              "<table border=\"1\" class=\"dataframe\">\n",
              "  <thead>\n",
              "    <tr style=\"text-align: right;\">\n",
              "      <th></th>\n",
              "      <th>Unnamed: 0</th>\n",
              "      <th>user id</th>\n",
              "      <th>test group</th>\n",
              "      <th>converted</th>\n",
              "      <th>total ads</th>\n",
              "      <th>most ads day</th>\n",
              "      <th>most ads hour</th>\n",
              "    </tr>\n",
              "  </thead>\n",
              "  <tbody>\n",
              "    <tr>\n",
              "      <th>0</th>\n",
              "      <td>0</td>\n",
              "      <td>1069124</td>\n",
              "      <td>ad</td>\n",
              "      <td>False</td>\n",
              "      <td>130</td>\n",
              "      <td>Monday</td>\n",
              "      <td>20</td>\n",
              "    </tr>\n",
              "    <tr>\n",
              "      <th>1</th>\n",
              "      <td>1</td>\n",
              "      <td>1119715</td>\n",
              "      <td>ad</td>\n",
              "      <td>False</td>\n",
              "      <td>93</td>\n",
              "      <td>Tuesday</td>\n",
              "      <td>22</td>\n",
              "    </tr>\n",
              "    <tr>\n",
              "      <th>2</th>\n",
              "      <td>2</td>\n",
              "      <td>1144181</td>\n",
              "      <td>ad</td>\n",
              "      <td>False</td>\n",
              "      <td>21</td>\n",
              "      <td>Tuesday</td>\n",
              "      <td>18</td>\n",
              "    </tr>\n",
              "    <tr>\n",
              "      <th>3</th>\n",
              "      <td>3</td>\n",
              "      <td>1435133</td>\n",
              "      <td>ad</td>\n",
              "      <td>False</td>\n",
              "      <td>355</td>\n",
              "      <td>Tuesday</td>\n",
              "      <td>10</td>\n",
              "    </tr>\n",
              "    <tr>\n",
              "      <th>4</th>\n",
              "      <td>4</td>\n",
              "      <td>1015700</td>\n",
              "      <td>ad</td>\n",
              "      <td>False</td>\n",
              "      <td>276</td>\n",
              "      <td>Friday</td>\n",
              "      <td>14</td>\n",
              "    </tr>\n",
              "  </tbody>\n",
              "</table>\n",
              "</div>\n",
              "    <div class=\"colab-df-buttons\">\n",
              "\n",
              "  <div class=\"colab-df-container\">\n",
              "    <button class=\"colab-df-convert\" onclick=\"convertToInteractive('df-ac4a03da-625d-4305-a901-731aadebeefa')\"\n",
              "            title=\"Convert this dataframe to an interactive table.\"\n",
              "            style=\"display:none;\">\n",
              "\n",
              "  <svg xmlns=\"http://www.w3.org/2000/svg\" height=\"24px\" viewBox=\"0 -960 960 960\">\n",
              "    <path d=\"M120-120v-720h720v720H120Zm60-500h600v-160H180v160Zm220 220h160v-160H400v160Zm0 220h160v-160H400v160ZM180-400h160v-160H180v160Zm440 0h160v-160H620v160ZM180-180h160v-160H180v160Zm440 0h160v-160H620v160Z\"/>\n",
              "  </svg>\n",
              "    </button>\n",
              "\n",
              "  <style>\n",
              "    .colab-df-container {\n",
              "      display:flex;\n",
              "      gap: 12px;\n",
              "    }\n",
              "\n",
              "    .colab-df-convert {\n",
              "      background-color: #E8F0FE;\n",
              "      border: none;\n",
              "      border-radius: 50%;\n",
              "      cursor: pointer;\n",
              "      display: none;\n",
              "      fill: #1967D2;\n",
              "      height: 32px;\n",
              "      padding: 0 0 0 0;\n",
              "      width: 32px;\n",
              "    }\n",
              "\n",
              "    .colab-df-convert:hover {\n",
              "      background-color: #E2EBFA;\n",
              "      box-shadow: 0px 1px 2px rgba(60, 64, 67, 0.3), 0px 1px 3px 1px rgba(60, 64, 67, 0.15);\n",
              "      fill: #174EA6;\n",
              "    }\n",
              "\n",
              "    .colab-df-buttons div {\n",
              "      margin-bottom: 4px;\n",
              "    }\n",
              "\n",
              "    [theme=dark] .colab-df-convert {\n",
              "      background-color: #3B4455;\n",
              "      fill: #D2E3FC;\n",
              "    }\n",
              "\n",
              "    [theme=dark] .colab-df-convert:hover {\n",
              "      background-color: #434B5C;\n",
              "      box-shadow: 0px 1px 3px 1px rgba(0, 0, 0, 0.15);\n",
              "      filter: drop-shadow(0px 1px 2px rgba(0, 0, 0, 0.3));\n",
              "      fill: #FFFFFF;\n",
              "    }\n",
              "  </style>\n",
              "\n",
              "    <script>\n",
              "      const buttonEl =\n",
              "        document.querySelector('#df-ac4a03da-625d-4305-a901-731aadebeefa button.colab-df-convert');\n",
              "      buttonEl.style.display =\n",
              "        google.colab.kernel.accessAllowed ? 'block' : 'none';\n",
              "\n",
              "      async function convertToInteractive(key) {\n",
              "        const element = document.querySelector('#df-ac4a03da-625d-4305-a901-731aadebeefa');\n",
              "        const dataTable =\n",
              "          await google.colab.kernel.invokeFunction('convertToInteractive',\n",
              "                                                    [key], {});\n",
              "        if (!dataTable) return;\n",
              "\n",
              "        const docLinkHtml = 'Like what you see? Visit the ' +\n",
              "          '<a target=\"_blank\" href=https://colab.research.google.com/notebooks/data_table.ipynb>data table notebook</a>'\n",
              "          + ' to learn more about interactive tables.';\n",
              "        element.innerHTML = '';\n",
              "        dataTable['output_type'] = 'display_data';\n",
              "        await google.colab.output.renderOutput(dataTable, element);\n",
              "        const docLink = document.createElement('div');\n",
              "        docLink.innerHTML = docLinkHtml;\n",
              "        element.appendChild(docLink);\n",
              "      }\n",
              "    </script>\n",
              "  </div>\n",
              "\n",
              "\n",
              "<div id=\"df-561b60a1-6985-4245-b6a9-71dd54d226cd\">\n",
              "  <button class=\"colab-df-quickchart\" onclick=\"quickchart('df-561b60a1-6985-4245-b6a9-71dd54d226cd')\"\n",
              "            title=\"Suggest charts\"\n",
              "            style=\"display:none;\">\n",
              "\n",
              "<svg xmlns=\"http://www.w3.org/2000/svg\" height=\"24px\"viewBox=\"0 0 24 24\"\n",
              "     width=\"24px\">\n",
              "    <g>\n",
              "        <path d=\"M19 3H5c-1.1 0-2 .9-2 2v14c0 1.1.9 2 2 2h14c1.1 0 2-.9 2-2V5c0-1.1-.9-2-2-2zM9 17H7v-7h2v7zm4 0h-2V7h2v10zm4 0h-2v-4h2v4z\"/>\n",
              "    </g>\n",
              "</svg>\n",
              "  </button>\n",
              "\n",
              "<style>\n",
              "  .colab-df-quickchart {\n",
              "      --bg-color: #E8F0FE;\n",
              "      --fill-color: #1967D2;\n",
              "      --hover-bg-color: #E2EBFA;\n",
              "      --hover-fill-color: #174EA6;\n",
              "      --disabled-fill-color: #AAA;\n",
              "      --disabled-bg-color: #DDD;\n",
              "  }\n",
              "\n",
              "  [theme=dark] .colab-df-quickchart {\n",
              "      --bg-color: #3B4455;\n",
              "      --fill-color: #D2E3FC;\n",
              "      --hover-bg-color: #434B5C;\n",
              "      --hover-fill-color: #FFFFFF;\n",
              "      --disabled-bg-color: #3B4455;\n",
              "      --disabled-fill-color: #666;\n",
              "  }\n",
              "\n",
              "  .colab-df-quickchart {\n",
              "    background-color: var(--bg-color);\n",
              "    border: none;\n",
              "    border-radius: 50%;\n",
              "    cursor: pointer;\n",
              "    display: none;\n",
              "    fill: var(--fill-color);\n",
              "    height: 32px;\n",
              "    padding: 0;\n",
              "    width: 32px;\n",
              "  }\n",
              "\n",
              "  .colab-df-quickchart:hover {\n",
              "    background-color: var(--hover-bg-color);\n",
              "    box-shadow: 0 1px 2px rgba(60, 64, 67, 0.3), 0 1px 3px 1px rgba(60, 64, 67, 0.15);\n",
              "    fill: var(--button-hover-fill-color);\n",
              "  }\n",
              "\n",
              "  .colab-df-quickchart-complete:disabled,\n",
              "  .colab-df-quickchart-complete:disabled:hover {\n",
              "    background-color: var(--disabled-bg-color);\n",
              "    fill: var(--disabled-fill-color);\n",
              "    box-shadow: none;\n",
              "  }\n",
              "\n",
              "  .colab-df-spinner {\n",
              "    border: 2px solid var(--fill-color);\n",
              "    border-color: transparent;\n",
              "    border-bottom-color: var(--fill-color);\n",
              "    animation:\n",
              "      spin 1s steps(1) infinite;\n",
              "  }\n",
              "\n",
              "  @keyframes spin {\n",
              "    0% {\n",
              "      border-color: transparent;\n",
              "      border-bottom-color: var(--fill-color);\n",
              "      border-left-color: var(--fill-color);\n",
              "    }\n",
              "    20% {\n",
              "      border-color: transparent;\n",
              "      border-left-color: var(--fill-color);\n",
              "      border-top-color: var(--fill-color);\n",
              "    }\n",
              "    30% {\n",
              "      border-color: transparent;\n",
              "      border-left-color: var(--fill-color);\n",
              "      border-top-color: var(--fill-color);\n",
              "      border-right-color: var(--fill-color);\n",
              "    }\n",
              "    40% {\n",
              "      border-color: transparent;\n",
              "      border-right-color: var(--fill-color);\n",
              "      border-top-color: var(--fill-color);\n",
              "    }\n",
              "    60% {\n",
              "      border-color: transparent;\n",
              "      border-right-color: var(--fill-color);\n",
              "    }\n",
              "    80% {\n",
              "      border-color: transparent;\n",
              "      border-right-color: var(--fill-color);\n",
              "      border-bottom-color: var(--fill-color);\n",
              "    }\n",
              "    90% {\n",
              "      border-color: transparent;\n",
              "      border-bottom-color: var(--fill-color);\n",
              "    }\n",
              "  }\n",
              "</style>\n",
              "\n",
              "  <script>\n",
              "    async function quickchart(key) {\n",
              "      const quickchartButtonEl =\n",
              "        document.querySelector('#' + key + ' button');\n",
              "      quickchartButtonEl.disabled = true;  // To prevent multiple clicks.\n",
              "      quickchartButtonEl.classList.add('colab-df-spinner');\n",
              "      try {\n",
              "        const charts = await google.colab.kernel.invokeFunction(\n",
              "            'suggestCharts', [key], {});\n",
              "      } catch (error) {\n",
              "        console.error('Error during call to suggestCharts:', error);\n",
              "      }\n",
              "      quickchartButtonEl.classList.remove('colab-df-spinner');\n",
              "      quickchartButtonEl.classList.add('colab-df-quickchart-complete');\n",
              "    }\n",
              "    (() => {\n",
              "      let quickchartButtonEl =\n",
              "        document.querySelector('#df-561b60a1-6985-4245-b6a9-71dd54d226cd button');\n",
              "      quickchartButtonEl.style.display =\n",
              "        google.colab.kernel.accessAllowed ? 'block' : 'none';\n",
              "    })();\n",
              "  </script>\n",
              "</div>\n",
              "\n",
              "    </div>\n",
              "  </div>\n"
            ],
            "application/vnd.google.colaboratory.intrinsic+json": {
              "type": "dataframe",
              "variable_name": "df"
            }
          },
          "metadata": {},
          "execution_count": 6
        }
      ],
      "execution_count": 6
    },
    {
      "cell_type": "markdown",
      "source": [
        "# EDA and Data Preprocessing"
      ],
      "metadata": {
        "id": "OX-K56D9DQAL"
      }
    },
    {
      "cell_type": "code",
      "source": [
        "df.describe()"
      ],
      "metadata": {
        "trusted": true,
        "execution": {
          "iopub.status.busy": "2025-01-03T10:01:11.346734Z",
          "iopub.execute_input": "2025-01-03T10:01:11.347108Z",
          "iopub.status.idle": "2025-01-03T10:01:11.417493Z",
          "shell.execute_reply.started": "2025-01-03T10:01:11.347082Z",
          "shell.execute_reply": "2025-01-03T10:01:11.416609Z"
        },
        "colab": {
          "base_uri": "https://localhost:8080/",
          "height": 300
        },
        "id": "tckBDUwzDQAL",
        "outputId": "aafa6ad4-a5f6-41be-d00b-ada58d2418a2"
      },
      "outputs": [
        {
          "output_type": "execute_result",
          "data": {
            "text/plain": [
              "          Unnamed: 0       user id      total ads  most ads hour\n",
              "count  588101.000000  5.881010e+05  588101.000000  588101.000000\n",
              "mean   294050.000000  1.310692e+06      24.820876      14.469061\n",
              "std    169770.279667  2.022260e+05      43.715181       4.834634\n",
              "min         0.000000  9.000000e+05       1.000000       0.000000\n",
              "25%    147025.000000  1.143190e+06       4.000000      11.000000\n",
              "50%    294050.000000  1.313725e+06      13.000000      14.000000\n",
              "75%    441075.000000  1.484088e+06      27.000000      18.000000\n",
              "max    588100.000000  1.654483e+06    2065.000000      23.000000"
            ],
            "text/html": [
              "\n",
              "  <div id=\"df-0eec6684-bdb6-4e09-bc58-52790ab8c673\" class=\"colab-df-container\">\n",
              "    <div>\n",
              "<style scoped>\n",
              "    .dataframe tbody tr th:only-of-type {\n",
              "        vertical-align: middle;\n",
              "    }\n",
              "\n",
              "    .dataframe tbody tr th {\n",
              "        vertical-align: top;\n",
              "    }\n",
              "\n",
              "    .dataframe thead th {\n",
              "        text-align: right;\n",
              "    }\n",
              "</style>\n",
              "<table border=\"1\" class=\"dataframe\">\n",
              "  <thead>\n",
              "    <tr style=\"text-align: right;\">\n",
              "      <th></th>\n",
              "      <th>Unnamed: 0</th>\n",
              "      <th>user id</th>\n",
              "      <th>total ads</th>\n",
              "      <th>most ads hour</th>\n",
              "    </tr>\n",
              "  </thead>\n",
              "  <tbody>\n",
              "    <tr>\n",
              "      <th>count</th>\n",
              "      <td>588101.000000</td>\n",
              "      <td>5.881010e+05</td>\n",
              "      <td>588101.000000</td>\n",
              "      <td>588101.000000</td>\n",
              "    </tr>\n",
              "    <tr>\n",
              "      <th>mean</th>\n",
              "      <td>294050.000000</td>\n",
              "      <td>1.310692e+06</td>\n",
              "      <td>24.820876</td>\n",
              "      <td>14.469061</td>\n",
              "    </tr>\n",
              "    <tr>\n",
              "      <th>std</th>\n",
              "      <td>169770.279667</td>\n",
              "      <td>2.022260e+05</td>\n",
              "      <td>43.715181</td>\n",
              "      <td>4.834634</td>\n",
              "    </tr>\n",
              "    <tr>\n",
              "      <th>min</th>\n",
              "      <td>0.000000</td>\n",
              "      <td>9.000000e+05</td>\n",
              "      <td>1.000000</td>\n",
              "      <td>0.000000</td>\n",
              "    </tr>\n",
              "    <tr>\n",
              "      <th>25%</th>\n",
              "      <td>147025.000000</td>\n",
              "      <td>1.143190e+06</td>\n",
              "      <td>4.000000</td>\n",
              "      <td>11.000000</td>\n",
              "    </tr>\n",
              "    <tr>\n",
              "      <th>50%</th>\n",
              "      <td>294050.000000</td>\n",
              "      <td>1.313725e+06</td>\n",
              "      <td>13.000000</td>\n",
              "      <td>14.000000</td>\n",
              "    </tr>\n",
              "    <tr>\n",
              "      <th>75%</th>\n",
              "      <td>441075.000000</td>\n",
              "      <td>1.484088e+06</td>\n",
              "      <td>27.000000</td>\n",
              "      <td>18.000000</td>\n",
              "    </tr>\n",
              "    <tr>\n",
              "      <th>max</th>\n",
              "      <td>588100.000000</td>\n",
              "      <td>1.654483e+06</td>\n",
              "      <td>2065.000000</td>\n",
              "      <td>23.000000</td>\n",
              "    </tr>\n",
              "  </tbody>\n",
              "</table>\n",
              "</div>\n",
              "    <div class=\"colab-df-buttons\">\n",
              "\n",
              "  <div class=\"colab-df-container\">\n",
              "    <button class=\"colab-df-convert\" onclick=\"convertToInteractive('df-0eec6684-bdb6-4e09-bc58-52790ab8c673')\"\n",
              "            title=\"Convert this dataframe to an interactive table.\"\n",
              "            style=\"display:none;\">\n",
              "\n",
              "  <svg xmlns=\"http://www.w3.org/2000/svg\" height=\"24px\" viewBox=\"0 -960 960 960\">\n",
              "    <path d=\"M120-120v-720h720v720H120Zm60-500h600v-160H180v160Zm220 220h160v-160H400v160Zm0 220h160v-160H400v160ZM180-400h160v-160H180v160Zm440 0h160v-160H620v160ZM180-180h160v-160H180v160Zm440 0h160v-160H620v160Z\"/>\n",
              "  </svg>\n",
              "    </button>\n",
              "\n",
              "  <style>\n",
              "    .colab-df-container {\n",
              "      display:flex;\n",
              "      gap: 12px;\n",
              "    }\n",
              "\n",
              "    .colab-df-convert {\n",
              "      background-color: #E8F0FE;\n",
              "      border: none;\n",
              "      border-radius: 50%;\n",
              "      cursor: pointer;\n",
              "      display: none;\n",
              "      fill: #1967D2;\n",
              "      height: 32px;\n",
              "      padding: 0 0 0 0;\n",
              "      width: 32px;\n",
              "    }\n",
              "\n",
              "    .colab-df-convert:hover {\n",
              "      background-color: #E2EBFA;\n",
              "      box-shadow: 0px 1px 2px rgba(60, 64, 67, 0.3), 0px 1px 3px 1px rgba(60, 64, 67, 0.15);\n",
              "      fill: #174EA6;\n",
              "    }\n",
              "\n",
              "    .colab-df-buttons div {\n",
              "      margin-bottom: 4px;\n",
              "    }\n",
              "\n",
              "    [theme=dark] .colab-df-convert {\n",
              "      background-color: #3B4455;\n",
              "      fill: #D2E3FC;\n",
              "    }\n",
              "\n",
              "    [theme=dark] .colab-df-convert:hover {\n",
              "      background-color: #434B5C;\n",
              "      box-shadow: 0px 1px 3px 1px rgba(0, 0, 0, 0.15);\n",
              "      filter: drop-shadow(0px 1px 2px rgba(0, 0, 0, 0.3));\n",
              "      fill: #FFFFFF;\n",
              "    }\n",
              "  </style>\n",
              "\n",
              "    <script>\n",
              "      const buttonEl =\n",
              "        document.querySelector('#df-0eec6684-bdb6-4e09-bc58-52790ab8c673 button.colab-df-convert');\n",
              "      buttonEl.style.display =\n",
              "        google.colab.kernel.accessAllowed ? 'block' : 'none';\n",
              "\n",
              "      async function convertToInteractive(key) {\n",
              "        const element = document.querySelector('#df-0eec6684-bdb6-4e09-bc58-52790ab8c673');\n",
              "        const dataTable =\n",
              "          await google.colab.kernel.invokeFunction('convertToInteractive',\n",
              "                                                    [key], {});\n",
              "        if (!dataTable) return;\n",
              "\n",
              "        const docLinkHtml = 'Like what you see? Visit the ' +\n",
              "          '<a target=\"_blank\" href=https://colab.research.google.com/notebooks/data_table.ipynb>data table notebook</a>'\n",
              "          + ' to learn more about interactive tables.';\n",
              "        element.innerHTML = '';\n",
              "        dataTable['output_type'] = 'display_data';\n",
              "        await google.colab.output.renderOutput(dataTable, element);\n",
              "        const docLink = document.createElement('div');\n",
              "        docLink.innerHTML = docLinkHtml;\n",
              "        element.appendChild(docLink);\n",
              "      }\n",
              "    </script>\n",
              "  </div>\n",
              "\n",
              "\n",
              "<div id=\"df-12228e6c-3a5b-4081-acf4-0c62e656ca0c\">\n",
              "  <button class=\"colab-df-quickchart\" onclick=\"quickchart('df-12228e6c-3a5b-4081-acf4-0c62e656ca0c')\"\n",
              "            title=\"Suggest charts\"\n",
              "            style=\"display:none;\">\n",
              "\n",
              "<svg xmlns=\"http://www.w3.org/2000/svg\" height=\"24px\"viewBox=\"0 0 24 24\"\n",
              "     width=\"24px\">\n",
              "    <g>\n",
              "        <path d=\"M19 3H5c-1.1 0-2 .9-2 2v14c0 1.1.9 2 2 2h14c1.1 0 2-.9 2-2V5c0-1.1-.9-2-2-2zM9 17H7v-7h2v7zm4 0h-2V7h2v10zm4 0h-2v-4h2v4z\"/>\n",
              "    </g>\n",
              "</svg>\n",
              "  </button>\n",
              "\n",
              "<style>\n",
              "  .colab-df-quickchart {\n",
              "      --bg-color: #E8F0FE;\n",
              "      --fill-color: #1967D2;\n",
              "      --hover-bg-color: #E2EBFA;\n",
              "      --hover-fill-color: #174EA6;\n",
              "      --disabled-fill-color: #AAA;\n",
              "      --disabled-bg-color: #DDD;\n",
              "  }\n",
              "\n",
              "  [theme=dark] .colab-df-quickchart {\n",
              "      --bg-color: #3B4455;\n",
              "      --fill-color: #D2E3FC;\n",
              "      --hover-bg-color: #434B5C;\n",
              "      --hover-fill-color: #FFFFFF;\n",
              "      --disabled-bg-color: #3B4455;\n",
              "      --disabled-fill-color: #666;\n",
              "  }\n",
              "\n",
              "  .colab-df-quickchart {\n",
              "    background-color: var(--bg-color);\n",
              "    border: none;\n",
              "    border-radius: 50%;\n",
              "    cursor: pointer;\n",
              "    display: none;\n",
              "    fill: var(--fill-color);\n",
              "    height: 32px;\n",
              "    padding: 0;\n",
              "    width: 32px;\n",
              "  }\n",
              "\n",
              "  .colab-df-quickchart:hover {\n",
              "    background-color: var(--hover-bg-color);\n",
              "    box-shadow: 0 1px 2px rgba(60, 64, 67, 0.3), 0 1px 3px 1px rgba(60, 64, 67, 0.15);\n",
              "    fill: var(--button-hover-fill-color);\n",
              "  }\n",
              "\n",
              "  .colab-df-quickchart-complete:disabled,\n",
              "  .colab-df-quickchart-complete:disabled:hover {\n",
              "    background-color: var(--disabled-bg-color);\n",
              "    fill: var(--disabled-fill-color);\n",
              "    box-shadow: none;\n",
              "  }\n",
              "\n",
              "  .colab-df-spinner {\n",
              "    border: 2px solid var(--fill-color);\n",
              "    border-color: transparent;\n",
              "    border-bottom-color: var(--fill-color);\n",
              "    animation:\n",
              "      spin 1s steps(1) infinite;\n",
              "  }\n",
              "\n",
              "  @keyframes spin {\n",
              "    0% {\n",
              "      border-color: transparent;\n",
              "      border-bottom-color: var(--fill-color);\n",
              "      border-left-color: var(--fill-color);\n",
              "    }\n",
              "    20% {\n",
              "      border-color: transparent;\n",
              "      border-left-color: var(--fill-color);\n",
              "      border-top-color: var(--fill-color);\n",
              "    }\n",
              "    30% {\n",
              "      border-color: transparent;\n",
              "      border-left-color: var(--fill-color);\n",
              "      border-top-color: var(--fill-color);\n",
              "      border-right-color: var(--fill-color);\n",
              "    }\n",
              "    40% {\n",
              "      border-color: transparent;\n",
              "      border-right-color: var(--fill-color);\n",
              "      border-top-color: var(--fill-color);\n",
              "    }\n",
              "    60% {\n",
              "      border-color: transparent;\n",
              "      border-right-color: var(--fill-color);\n",
              "    }\n",
              "    80% {\n",
              "      border-color: transparent;\n",
              "      border-right-color: var(--fill-color);\n",
              "      border-bottom-color: var(--fill-color);\n",
              "    }\n",
              "    90% {\n",
              "      border-color: transparent;\n",
              "      border-bottom-color: var(--fill-color);\n",
              "    }\n",
              "  }\n",
              "</style>\n",
              "\n",
              "  <script>\n",
              "    async function quickchart(key) {\n",
              "      const quickchartButtonEl =\n",
              "        document.querySelector('#' + key + ' button');\n",
              "      quickchartButtonEl.disabled = true;  // To prevent multiple clicks.\n",
              "      quickchartButtonEl.classList.add('colab-df-spinner');\n",
              "      try {\n",
              "        const charts = await google.colab.kernel.invokeFunction(\n",
              "            'suggestCharts', [key], {});\n",
              "      } catch (error) {\n",
              "        console.error('Error during call to suggestCharts:', error);\n",
              "      }\n",
              "      quickchartButtonEl.classList.remove('colab-df-spinner');\n",
              "      quickchartButtonEl.classList.add('colab-df-quickchart-complete');\n",
              "    }\n",
              "    (() => {\n",
              "      let quickchartButtonEl =\n",
              "        document.querySelector('#df-12228e6c-3a5b-4081-acf4-0c62e656ca0c button');\n",
              "      quickchartButtonEl.style.display =\n",
              "        google.colab.kernel.accessAllowed ? 'block' : 'none';\n",
              "    })();\n",
              "  </script>\n",
              "</div>\n",
              "\n",
              "    </div>\n",
              "  </div>\n"
            ],
            "application/vnd.google.colaboratory.intrinsic+json": {
              "type": "dataframe",
              "summary": "{\n  \"name\": \"df\",\n  \"rows\": 8,\n  \"fields\": [\n    {\n      \"column\": \"Unnamed: 0\",\n      \"properties\": {\n        \"dtype\": \"number\",\n        \"std\": 211954.22680109803,\n        \"min\": 0.0,\n        \"max\": 588101.0,\n        \"num_unique_values\": 7,\n        \"samples\": [\n          588101.0,\n          294050.0,\n          441075.0\n        ],\n        \"semantic_type\": \"\",\n        \"description\": \"\"\n      }\n    },\n    {\n      \"column\": \"user id\",\n      \"properties\": {\n        \"dtype\": \"number\",\n        \"std\": 485470.67814461567,\n        \"min\": 202225.98312774944,\n        \"max\": 1654483.0,\n        \"num_unique_values\": 8,\n        \"samples\": [\n          1310692.2157928655,\n          1313725.0,\n          588101.0\n        ],\n        \"semantic_type\": \"\",\n        \"description\": \"\"\n      }\n    },\n    {\n      \"column\": \"total ads\",\n      \"properties\": {\n        \"dtype\": \"number\",\n        \"std\": 207816.30368195256,\n        \"min\": 1.0,\n        \"max\": 588101.0,\n        \"num_unique_values\": 8,\n        \"samples\": [\n          24.82087600599217,\n          13.0,\n          588101.0\n        ],\n        \"semantic_type\": \"\",\n        \"description\": \"\"\n      }\n    },\n    {\n      \"column\": \"most ads hour\",\n      \"properties\": {\n        \"dtype\": \"number\",\n        \"std\": 207920.79419886248,\n        \"min\": 0.0,\n        \"max\": 588101.0,\n        \"num_unique_values\": 8,\n        \"samples\": [\n          14.469060586531905,\n          14.0,\n          588101.0\n        ],\n        \"semantic_type\": \"\",\n        \"description\": \"\"\n      }\n    }\n  ]\n}"
            }
          },
          "metadata": {},
          "execution_count": 7
        }
      ],
      "execution_count": 7
    },
    {
      "cell_type": "code",
      "source": [
        "df.info()"
      ],
      "metadata": {
        "trusted": true,
        "execution": {
          "iopub.status.busy": "2025-01-03T10:01:11.41841Z",
          "iopub.execute_input": "2025-01-03T10:01:11.418724Z",
          "iopub.status.idle": "2025-01-03T10:01:11.488534Z",
          "shell.execute_reply.started": "2025-01-03T10:01:11.418669Z",
          "shell.execute_reply": "2025-01-03T10:01:11.487713Z"
        },
        "colab": {
          "base_uri": "https://localhost:8080/"
        },
        "id": "0deiMKZGDQAL",
        "outputId": "407276ca-dcc3-4430-85dd-01a80a3b6bd8"
      },
      "outputs": [
        {
          "output_type": "stream",
          "name": "stdout",
          "text": [
            "<class 'pandas.core.frame.DataFrame'>\n",
            "RangeIndex: 588101 entries, 0 to 588100\n",
            "Data columns (total 7 columns):\n",
            " #   Column         Non-Null Count   Dtype \n",
            "---  ------         --------------   ----- \n",
            " 0   Unnamed: 0     588101 non-null  int64 \n",
            " 1   user id        588101 non-null  int64 \n",
            " 2   test group     588101 non-null  object\n",
            " 3   converted      588101 non-null  bool  \n",
            " 4   total ads      588101 non-null  int64 \n",
            " 5   most ads day   588101 non-null  object\n",
            " 6   most ads hour  588101 non-null  int64 \n",
            "dtypes: bool(1), int64(4), object(2)\n",
            "memory usage: 27.5+ MB\n"
          ]
        }
      ],
      "execution_count": 8
    },
    {
      "cell_type": "markdown",
      "source": [
        "## Missing Values Detection"
      ],
      "metadata": {
        "id": "UX9zlRuDDQAL"
      }
    },
    {
      "cell_type": "code",
      "source": [
        "df.isna().sum()"
      ],
      "metadata": {
        "trusted": true,
        "execution": {
          "iopub.status.busy": "2025-01-03T10:01:11.4894Z",
          "iopub.execute_input": "2025-01-03T10:01:11.489763Z",
          "iopub.status.idle": "2025-01-03T10:01:11.551873Z",
          "shell.execute_reply.started": "2025-01-03T10:01:11.489735Z",
          "shell.execute_reply": "2025-01-03T10:01:11.550672Z"
        },
        "colab": {
          "base_uri": "https://localhost:8080/",
          "height": 304
        },
        "id": "ONhz-RtkDQAL",
        "outputId": "2a76c0b3-39f8-432c-fcc6-e073ff175d33"
      },
      "outputs": [
        {
          "output_type": "execute_result",
          "data": {
            "text/plain": [
              "Unnamed: 0       0\n",
              "user id          0\n",
              "test group       0\n",
              "converted        0\n",
              "total ads        0\n",
              "most ads day     0\n",
              "most ads hour    0\n",
              "dtype: int64"
            ],
            "text/html": [
              "<div>\n",
              "<style scoped>\n",
              "    .dataframe tbody tr th:only-of-type {\n",
              "        vertical-align: middle;\n",
              "    }\n",
              "\n",
              "    .dataframe tbody tr th {\n",
              "        vertical-align: top;\n",
              "    }\n",
              "\n",
              "    .dataframe thead th {\n",
              "        text-align: right;\n",
              "    }\n",
              "</style>\n",
              "<table border=\"1\" class=\"dataframe\">\n",
              "  <thead>\n",
              "    <tr style=\"text-align: right;\">\n",
              "      <th></th>\n",
              "      <th>0</th>\n",
              "    </tr>\n",
              "  </thead>\n",
              "  <tbody>\n",
              "    <tr>\n",
              "      <th>Unnamed: 0</th>\n",
              "      <td>0</td>\n",
              "    </tr>\n",
              "    <tr>\n",
              "      <th>user id</th>\n",
              "      <td>0</td>\n",
              "    </tr>\n",
              "    <tr>\n",
              "      <th>test group</th>\n",
              "      <td>0</td>\n",
              "    </tr>\n",
              "    <tr>\n",
              "      <th>converted</th>\n",
              "      <td>0</td>\n",
              "    </tr>\n",
              "    <tr>\n",
              "      <th>total ads</th>\n",
              "      <td>0</td>\n",
              "    </tr>\n",
              "    <tr>\n",
              "      <th>most ads day</th>\n",
              "      <td>0</td>\n",
              "    </tr>\n",
              "    <tr>\n",
              "      <th>most ads hour</th>\n",
              "      <td>0</td>\n",
              "    </tr>\n",
              "  </tbody>\n",
              "</table>\n",
              "</div><br><label><b>dtype:</b> int64</label>"
            ]
          },
          "metadata": {},
          "execution_count": 9
        }
      ],
      "execution_count": 9
    },
    {
      "cell_type": "markdown",
      "source": [
        "## Outlier Detection"
      ],
      "metadata": {
        "id": "gz-9Eg-GDQAL"
      }
    },
    {
      "cell_type": "code",
      "source": [
        "def filter_outliers(data, whisker=1.5):\n",
        "    \"\"\"\n",
        "    Identifies outliers in a dataset using the IQR method.\n",
        "\n",
        "    Parameters:\n",
        "        data (pd.Series): A pandas Series containing numerical data.\n",
        "        whisker (float): The multiplier for the interquartile range (IQR). Default is 1.5.\n",
        "\n",
        "    Returns:\n",
        "        pd.Series: A boolean Series where True indicates an outlier.\n",
        "    \"\"\"\n",
        "    # Calculate the first and third quartiles\n",
        "    Q1 = data.quantile(0.25)  # 25th percentile\n",
        "    Q3 = data.quantile(0.75)  # 75th percentile\n",
        "\n",
        "    # Compute the interquartile range (IQR)\n",
        "    IQR = Q3 - Q1\n",
        "\n",
        "    # Define the lower and upper bounds for non-outliers\n",
        "    lower_bound = Q1 - whisker * IQR\n",
        "    upper_bound = Q3 + whisker * IQR\n",
        "\n",
        "    # Identify outliers\n",
        "    is_outlier = data[(data < lower_bound) | (data > upper_bound)]\n",
        "\n",
        "    return is_outlier"
      ],
      "metadata": {
        "trusted": true,
        "execution": {
          "iopub.status.busy": "2025-01-03T10:01:11.552829Z",
          "iopub.execute_input": "2025-01-03T10:01:11.553075Z",
          "iopub.status.idle": "2025-01-03T10:01:11.562405Z",
          "shell.execute_reply.started": "2025-01-03T10:01:11.553053Z",
          "shell.execute_reply": "2025-01-03T10:01:11.561527Z"
        },
        "id": "OC7AJyHSDQAL"
      },
      "outputs": [],
      "execution_count": 10
    },
    {
      "cell_type": "code",
      "source": [
        "outliers = filter_outliers(df['total ads'])\n",
        "print(f\"Total number of outliers : {len(outliers)}\")\n",
        "print(f\"Total number of recors   : {len(df)}\")\n",
        "print(f\"Percentage of outliers   : {len(outliers)/len(df)*100:.2f}%\")"
      ],
      "metadata": {
        "trusted": true,
        "execution": {
          "iopub.status.busy": "2025-01-03T10:01:11.56516Z",
          "iopub.execute_input": "2025-01-03T10:01:11.565429Z",
          "iopub.status.idle": "2025-01-03T10:01:11.607658Z",
          "shell.execute_reply.started": "2025-01-03T10:01:11.565409Z",
          "shell.execute_reply": "2025-01-03T10:01:11.606781Z"
        },
        "colab": {
          "base_uri": "https://localhost:8080/"
        },
        "id": "x-ijxlW9DQAL",
        "outputId": "14eefab2-1f81-4e3f-f59d-f133fc81f29f"
      },
      "outputs": [
        {
          "output_type": "stream",
          "name": "stdout",
          "text": [
            "Total number of outliers : 52057\n",
            "Total number of recors   : 588101\n",
            "Percentage of outliers   : 8.85%\n"
          ]
        }
      ],
      "execution_count": 11
    },
    {
      "cell_type": "code",
      "source": [
        "# Separate the dataframe into two groups\n",
        "outliers_df = df[df.index.isin(outliers.index)]\n",
        "no_outliers_df = df[~df.index.isin(outliers.index)]\n",
        "\n",
        "# Calculate avg seen ads with/without outliers\n",
        "mean_ads_overall = df['total ads'].mean()\n",
        "mean_ads_without_outliers = no_outliers_df['total ads'].mean()\n",
        "print(f\"Overall average ads seen : {mean_ads_overall:.2f} ads\")\n",
        "print(f\"Without outliers average ads seen : {mean_ads_without_outliers:.2f} ads\")\n",
        "\n",
        "# Calculate conversion rate with/without outliers\n",
        "conversion_overall = (df['converted'] == True).mean() * 100\n",
        "conversion_without_outliers = (no_outliers_df['converted'] == True).mean() * 100\n",
        "print(f'Overal conversion rate: {conversion_overall:.2f}%')\n",
        "print(f'Without outliers conversion rate: {conversion_without_outliers:.2f}%')"
      ],
      "metadata": {
        "trusted": true,
        "execution": {
          "iopub.status.busy": "2025-01-03T10:01:11.609071Z",
          "iopub.execute_input": "2025-01-03T10:01:11.609287Z",
          "iopub.status.idle": "2025-01-03T10:01:11.663803Z",
          "shell.execute_reply.started": "2025-01-03T10:01:11.609268Z",
          "shell.execute_reply": "2025-01-03T10:01:11.662763Z"
        },
        "colab": {
          "base_uri": "https://localhost:8080/"
        },
        "id": "5ABIwCS9DQAL",
        "outputId": "9c3fed59-c2a0-42ca-9eb4-8d082bbd5cf0"
      },
      "outputs": [
        {
          "output_type": "stream",
          "name": "stdout",
          "text": [
            "Overall average ads seen : 24.82 ads\n",
            "Without outliers average ads seen : 15.13 ads\n",
            "Overal conversion rate: 2.52%\n",
            "Without outliers conversion rate: 1.33%\n"
          ]
        }
      ],
      "execution_count": 12
    },
    {
      "cell_type": "code",
      "source": [
        "# Check the percent of converted users among outliers\n",
        "outliers_conversion = outliers_df['converted'].value_counts(normalize=True).mul(100).round(2).reset_index()\n",
        "print(f'Outliers Conversion Rate: {outliers_conversion.iloc[1,1]:.2f} %')\n",
        "\n",
        "# Check the average ads seen among outliers\n",
        "outliers_ads_seen = outliers_df['total ads'].mean()\n",
        "print(f\"Outliers average ads seen: {outliers_ads_seen:.2f}\")"
      ],
      "metadata": {
        "trusted": true,
        "execution": {
          "iopub.status.busy": "2025-01-03T10:01:11.664883Z",
          "iopub.execute_input": "2025-01-03T10:01:11.665144Z",
          "iopub.status.idle": "2025-01-03T10:01:11.674499Z",
          "shell.execute_reply.started": "2025-01-03T10:01:11.665121Z",
          "shell.execute_reply": "2025-01-03T10:01:11.673372Z"
        },
        "colab": {
          "base_uri": "https://localhost:8080/"
        },
        "id": "VTNB-wOEDQAL",
        "outputId": "8c4a7d0b-aa1c-4b6b-c125-3f8630f637bd"
      },
      "outputs": [
        {
          "output_type": "stream",
          "name": "stdout",
          "text": [
            "Outliers Conversion Rate: 14.85 %\n",
            "Outliers average ads seen: 124.57\n"
          ]
        }
      ],
      "execution_count": 13
    },
    {
      "cell_type": "markdown",
      "source": [
        "- The conversion rate for outliers (14.85%) is disproportionately high compared to the overall conversion rate (2.52%) and the rate without outliers (1.33%).\n",
        "- The overall average ads seen (24.82) is significantly higher than the average without outliers (15.13). This indicates that outliers heavily skew the data.\n",
        "- Outliers have an average of 124.57 ads seen, much higher than the overall average. Their behavior (high conversion rate and ad views) is fundamentally different from the majority of the data.\n",
        "\n",
        "Based on the provided summary, outliers seem to significantly distort key metrics and we decide to proceed further analysis with <code>no_outliers_df</code>"
      ],
      "metadata": {
        "id": "RDpR3xVODQAL"
      }
    },
    {
      "cell_type": "markdown",
      "source": [
        "## Renaming Columns"
      ],
      "metadata": {
        "id": "rrj5xB4FDQAL"
      }
    },
    {
      "cell_type": "code",
      "source": [
        "no_outliers_df.rename(columns={\n",
        "    'user id': 'user_id',\n",
        "    'test group': 'test_group',\n",
        "    'total ads': 'total_ads',\n",
        "    'most ads day': 'most_ads_day',\n",
        "    'most ads hour': 'most_ads_hour'\n",
        "}, inplace=True)"
      ],
      "metadata": {
        "trusted": true,
        "execution": {
          "iopub.status.busy": "2025-01-03T10:01:11.675811Z",
          "iopub.execute_input": "2025-01-03T10:01:11.676147Z",
          "iopub.status.idle": "2025-01-03T10:01:11.694205Z",
          "shell.execute_reply.started": "2025-01-03T10:01:11.676113Z",
          "shell.execute_reply": "2025-01-03T10:01:11.693156Z"
        },
        "id": "FFc_ObhCDQAL"
      },
      "outputs": [],
      "execution_count": 14
    },
    {
      "cell_type": "code",
      "source": [
        "no_outliers_df['converted'] = no_outliers_df['converted'].astype('int')"
      ],
      "metadata": {
        "trusted": true,
        "execution": {
          "iopub.status.busy": "2025-01-03T10:01:11.695354Z",
          "iopub.execute_input": "2025-01-03T10:01:11.695799Z",
          "iopub.status.idle": "2025-01-03T10:01:11.712887Z",
          "shell.execute_reply.started": "2025-01-03T10:01:11.695757Z",
          "shell.execute_reply": "2025-01-03T10:01:11.711855Z"
        },
        "id": "2DoxJCwcDQAM"
      },
      "outputs": [],
      "execution_count": 15
    },
    {
      "cell_type": "code",
      "source": [
        "ads_campaign = no_outliers_df.copy()"
      ],
      "metadata": {
        "trusted": true,
        "execution": {
          "iopub.status.busy": "2025-01-03T10:01:11.713878Z",
          "iopub.execute_input": "2025-01-03T10:01:11.714145Z",
          "iopub.status.idle": "2025-01-03T10:01:11.815333Z",
          "shell.execute_reply.started": "2025-01-03T10:01:11.714123Z",
          "shell.execute_reply": "2025-01-03T10:01:11.814184Z"
        },
        "id": "dwpugT-ODQAM"
      },
      "outputs": [],
      "execution_count": 16
    },
    {
      "cell_type": "code",
      "source": [
        "ads_campaign.reset_index(inplace=True)"
      ],
      "metadata": {
        "trusted": true,
        "execution": {
          "iopub.status.busy": "2025-01-03T10:01:11.816383Z",
          "iopub.execute_input": "2025-01-03T10:01:11.816819Z",
          "iopub.status.idle": "2025-01-03T10:01:11.821786Z",
          "shell.execute_reply.started": "2025-01-03T10:01:11.816779Z",
          "shell.execute_reply": "2025-01-03T10:01:11.820997Z"
        },
        "id": "l4iMBOZfDQAM"
      },
      "outputs": [],
      "execution_count": 17
    },
    {
      "cell_type": "markdown",
      "source": [
        "# Ads Campaign\n",
        "- Is there a statistically significant difference in conversion rates between ad and PSA groups?\n",
        "- What is the confidence interval for difference in conversion rates if it exists?\n",
        "- What is the effect size (how much better/worse did the ad group perform)?"
      ],
      "metadata": {
        "id": "SgQI_1gbDQAM"
      }
    },
    {
      "cell_type": "markdown",
      "source": [
        "There are several significance test to assign difference in conversion between two groups (ads and psa). To address this question we need to formulate hypotheses as follows:"
      ],
      "metadata": {
        "id": "p3tTtIEMDQAM"
      }
    },
    {
      "cell_type": "markdown",
      "source": [
        "## Hypothesis formulation\n",
        "\n",
        "**Null Hypothesis** $(H_0)$ : the conversion rate of ad group (experimental group) is equal to the conversion rate of PSA group (control group).\n",
        "\n",
        "**Alternative Hypothesis** $(H_1)$ :  The conversion rate in the ad group is higher than in the PSA group $(p_{ad} > p_{psa})$."
      ],
      "metadata": {
        "id": "IF0d2sCSDQAM"
      }
    },
    {
      "cell_type": "markdown",
      "source": [
        "## Subject initialization\n",
        "A simple bar chart showing the total converted vs not-converted in each group can provide a clear comparison of customer engagement."
      ],
      "metadata": {
        "id": "cuSyfBo0DQAM"
      }
    },
    {
      "cell_type": "code",
      "source": [
        "palette = {False: \"red\", True: \"green\"}\n",
        "group_counts = ads_campaign.groupby('test_group').size()\n",
        "plt.figure(figsize=(10,6))\n",
        "ax = sns.countplot(x='test_group', hue='converted', data=ads_campaign, palette=palette)\n",
        "plt.title('Converted Distribution in Ads (Experimental Group) and PSA (Control Group) ')\n",
        "plt.xlabel('Group')\n",
        "plt.legend(title='Click', labels=['No', 'Yes'])\n",
        "\n",
        "for bar in ax.patches:\n",
        "    group = 'ad' if bar.get_x() < 0.5 else 'psa'\n",
        "    total = group_counts.loc[group]\n",
        "    x = bar.get_x() + bar.get_width() / 2  # x-axis of bar\n",
        "    y = bar.get_height()\n",
        "    percentage = 100*y/total\n",
        "    ax.text(x, y + 0.5, f\"{percentage:.2f}%\", ha='center', va='bottom')  # text aboves bar"
      ],
      "metadata": {
        "trusted": true,
        "execution": {
          "iopub.status.busy": "2025-01-03T10:01:11.822726Z",
          "iopub.execute_input": "2025-01-03T10:01:11.822992Z",
          "iopub.status.idle": "2025-01-03T10:01:12.483087Z",
          "shell.execute_reply.started": "2025-01-03T10:01:11.82297Z",
          "shell.execute_reply": "2025-01-03T10:01:12.482078Z"
        },
        "colab": {
          "base_uri": "https://localhost:8080/",
          "height": 551
        },
        "id": "xc_KXaoCDQAM",
        "outputId": "572c6222-7131-4d11-81e9-bb8e84cae0d7"
      },
      "outputs": [
        {
          "output_type": "display_data",
          "data": {
            "text/plain": [
              "<Figure size 1000x600 with 1 Axes>"
            ],
            "image/png": "[encoded data removed]"
          },
          "metadata": {}
        }
      ],
      "execution_count": 18
    },
    {
      "cell_type": "markdown",
      "source": [
        "Treatment Group Conversion rate: 1.34% \\\n",
        "Control Group Conversion rate: 1.06%"
      ],
      "metadata": {
        "id": "EvbFpCPeDQAM"
      }
    },
    {
      "cell_type": "markdown",
      "source": [
        "## Sample size check"
      ],
      "metadata": {
        "id": "8Rvg43QdDQAM"
      }
    },
    {
      "cell_type": "markdown",
      "source": [
        "To perform the z-statistic test in the analysis of the difference in proportions, it is necessary to assume that the sampling distribution of the proportion approaches a normal distribution. Based on the Central Limit Theorem (CLT), this assumption can be met even though the population distribution is not normal, as long as the sample size is large enough. The requirements for a sufficient sample size are $n_1.p_1\\geq5, n_1.(1-p_1) \\geq 5, n_2.p_2 \\geq5$, and $n_2.(1-p_2)\\geq5$ \\\n",
        "where, \\\n",
        "$n_1, n_2$ = sample sizes of groups 1 and 2, \\\n",
        "$p_1,p_2$  = sample proportions of groups 1 and 2"
      ],
      "metadata": {
        "id": "t_RrN6iJDQAM"
      }
    },
    {
      "cell_type": "code",
      "source": [
        "# Calculate succsess proportion\n",
        "p1 = 0.0134\n",
        "p2 = 0.0106\n",
        "total_treatment = group_counts[0]\n",
        "total_control = group_counts[1]\n",
        "\n",
        "# Check wheter sample size is big enough for normal approximation\n",
        "def check_sample_size(n, p):\n",
        "    return (n * p >= 5) and (n * (1 - p) >= 5)\n",
        "\n",
        "# Treatment Group check\n",
        "treatment_check = check_sample_size(total_treatment, p1)\n",
        "\n",
        "# Control Group check\n",
        "control_check = check_sample_size(total_control, p2)\n",
        "\n",
        "# Result\n",
        "if treatment_check and control_check:\n",
        "    print(\"Sample sizes are large enough for a Z-test.\")\n",
        "else:\n",
        "    print(\"Sample sizes are too small; consider using an exact test (e.g., Fisher's exact test).\")\n"
      ],
      "metadata": {
        "trusted": true,
        "execution": {
          "iopub.status.busy": "2025-01-03T10:01:12.484003Z",
          "iopub.execute_input": "2025-01-03T10:01:12.484439Z",
          "iopub.status.idle": "2025-01-03T10:01:12.490843Z",
          "shell.execute_reply.started": "2025-01-03T10:01:12.484405Z",
          "shell.execute_reply": "2025-01-03T10:01:12.49004Z"
        },
        "colab": {
          "base_uri": "https://localhost:8080/"
        },
        "id": "52zim59hDQAM",
        "outputId": "c50987de-99dd-454e-c9f2-328e9ebfbf72"
      },
      "outputs": [
        {
          "output_type": "stream",
          "name": "stdout",
          "text": [
            "Sample sizes are large enough for a Z-test.\n"
          ]
        }
      ],
      "execution_count": 19
    },
    {
      "cell_type": "markdown",
      "source": [
        "## Conducting a Two-Proportion Z-test"
      ],
      "metadata": {
        "id": "TJlxWeVzDQAM"
      }
    },
    {
      "cell_type": "code",
      "source": [
        "outcome_group_counts = ads_campaign.groupby(['test_group','converted']).size().reset_index(name='count')\n",
        "treatment_group = outcome_group_counts[outcome_group_counts['test_group'] == 'ad']\n",
        "control_group = outcome_group_counts[outcome_group_counts['test_group'] == 'psa']\n",
        "\n",
        "# Count successes (conversions)\n",
        "successes = [\n",
        "    treatment_group.loc[treatment_group[\"converted\"] == 1, \"count\"].values[0],    # number of conversions in ad group\n",
        "    control_group.loc[control_group[\"converted\"] == 1, \"count\"].values[0]    # number of conversions in psa group\n",
        "]\n",
        "\n",
        "# Get sample sizes\n",
        "nobs = [\n",
        "    sum(treatment_group['count']),    # total number in ad group\n",
        "    sum(control_group['count'])    # total number in psa group\n",
        "]\n",
        "\n",
        "# Calculate proportions\n",
        "z_value, p_value = proportions_ztest(count=successes, nobs=nobs, alternative='larger')\n",
        "if p_value < 0.05:\n",
        "    print(\"Reject the Null Hypothesis\")\n",
        "else:\n",
        "    print(\"Fail to reject the Null Hypothesis\")"
      ],
      "metadata": {
        "trusted": true,
        "execution": {
          "iopub.status.busy": "2025-01-03T10:01:12.491796Z",
          "iopub.execute_input": "2025-01-03T10:01:12.492145Z",
          "iopub.status.idle": "2025-01-03T10:01:12.558025Z",
          "shell.execute_reply.started": "2025-01-03T10:01:12.492113Z",
          "shell.execute_reply": "2025-01-03T10:01:12.556814Z"
        },
        "colab": {
          "base_uri": "https://localhost:8080/"
        },
        "id": "A_wP53rADQAM",
        "outputId": "28f1b288-fd00-463d-d468-d7f6286effb7"
      },
      "outputs": [
        {
          "output_type": "stream",
          "name": "stdout",
          "text": [
            "Reject the Null Hypothesis\n"
          ]
        }
      ],
      "execution_count": 20
    },
    {
      "cell_type": "markdown",
      "source": [
        "There is statistical significance, indicating that the observed differences between the groups are unlikely to have occurred by chance alone. This suggests that the changes in the experimental group have a real effect compared to the control group. The 'ad' group demonstrates a notably higher conversion rate compared to the 'psa' group, indicating a statistically significant improvement from the ad campaign."
      ],
      "metadata": {
        "id": "1nxDc0hQDQAM"
      }
    },
    {
      "cell_type": "markdown",
      "source": [
        "### Confidence interval for difference in conversion rate"
      ],
      "metadata": {
        "id": "YzpVkTRfDQAM"
      }
    },
    {
      "cell_type": "code",
      "source": [
        "# Data\n",
        "success_group1 = successes[0] # Jumlah sukses di Grup 1\n",
        "total_group1 = nobs[0]   # Total sampel di Grup 1\n",
        "\n",
        "success_group2 = successes[1]  # Jumlah sukses di Grup 2\n",
        "total_group2 = nobs[1]   # Total sampel di Grup 2\n",
        "\n",
        "# Proportion\n",
        "p1 = success_group1 / total_group1\n",
        "p2 = success_group2 / total_group2\n",
        "\n",
        "# Proportion difference\n",
        "prop_diff = p1 - p2\n",
        "\n",
        "# Pooled Standard Error\n",
        "se = np.sqrt((p1 * (1 - p1)) / total_group1 + (p2 * (1 - p2)) / total_group2)\n",
        "\n",
        "# Critical z-value for 95% CI\n",
        "z_critical = norm.ppf(0.975)\n",
        "\n",
        "# Confidence Interval\n",
        "ci_lower = prop_diff - z_critical * se\n",
        "ci_upper = prop_diff + z_critical * se\n",
        "\n",
        "# Output\n",
        "print(f\"Proportion Difference: {prop_diff:.4f}\")\n",
        "print(f\"95% Confidence Interval: ({ci_lower:.4f}, {ci_upper:.4f})\")\n"
      ],
      "metadata": {
        "trusted": true,
        "execution": {
          "iopub.status.busy": "2025-01-03T10:01:12.559016Z",
          "iopub.execute_input": "2025-01-03T10:01:12.559329Z",
          "iopub.status.idle": "2025-01-03T10:01:12.566814Z",
          "shell.execute_reply.started": "2025-01-03T10:01:12.559292Z",
          "shell.execute_reply": "2025-01-03T10:01:12.565588Z"
        },
        "colab": {
          "base_uri": "https://localhost:8080/"
        },
        "id": "aMZKBIUpDQAM",
        "outputId": "e3cf3e7b-c6f3-41d1-8a7d-19838b8f862f"
      },
      "outputs": [
        {
          "output_type": "stream",
          "name": "stdout",
          "text": [
            "Proportion Difference: 0.0028\n",
            "95% Confidence Interval: (0.0014, 0.0042)\n"
          ]
        }
      ],
      "execution_count": 21
    },
    {
      "cell_type": "markdown",
      "source": [
        "The confidence interval clearly shows a difference between the two groups, with the difference in conversion rate expected to be between 0.13% and 0.41% higher. Notably, the observed difference of 0.28% falls near the midpoint of the 95% confidence interval."
      ],
      "metadata": {
        "id": "ORyDR-XnDQAM"
      }
    },
    {
      "cell_type": "markdown",
      "source": [
        "# Economic impact\n",
        "After the significance test, the difference between the experimental group and the control group is statistically significant. However, before expanding the campaign advertising, a thorough cost-benefit analysis should be conducted, with the possibility of looking for alternative advertising strategies. The cost-benefit analysis can check whether the increase in conversion can cover the campaign costs or can check whether there is an increase in net profit. To assess the economic impact, we will determine the additional revenue generated for every 1,000 users after implementing the ad campaign, assuming an average revenue of $250 per conversion."
      ],
      "metadata": {
        "id": "xR2HBaetDQAM"
      }
    },
    {
      "cell_type": "code",
      "source": [
        "# Assume average revenue per conversion\n",
        "avg_roi_per_conv = 25\n",
        "\n",
        "# Calculate revenue for every 1000 users\n",
        "ads_revenue = 1000 * p1 * avg_roi_per_conv\n",
        "psa_revenue = 1000 * p2 * avg_roi_per_conv\n",
        "additional_revenue = ads_revenue - psa_revenue\n",
        "\n",
        "print(f'ADS revenue per 1K users :${ads_revenue:.2f}')\n",
        "print(f'PSA revenue per 1K users :${psa_revenue:.2f}')\n",
        "print(f'additional revenue per 1K users :${additional_revenue:.2f}')"
      ],
      "metadata": {
        "trusted": true,
        "execution": {
          "iopub.status.busy": "2025-01-03T10:03:23.355095Z",
          "iopub.execute_input": "2025-01-03T10:03:23.355425Z",
          "iopub.status.idle": "2025-01-03T10:03:23.362119Z",
          "shell.execute_reply.started": "2025-01-03T10:03:23.3554Z",
          "shell.execute_reply": "2025-01-03T10:03:23.360865Z"
        },
        "colab": {
          "base_uri": "https://localhost:8080/"
        },
        "id": "GSP-SQ1ADQAM",
        "outputId": "b68845d3-64a2-4ba9-d51a-455281a1173c"
      },
      "outputs": [
        {
          "output_type": "stream",
          "name": "stdout",
          "text": [
            "ADS revenue per 1K users :$334.60\n",
            "PSA revenue per 1K users :$264.91\n",
            "additional revenue per 1K users :$69.69\n"
          ]
        }
      ],
      "execution_count": 22
    },
    {
      "cell_type": "markdown",
      "source": [
        "The success of the ad campaign, reflected by an increase in revenue of $70 per 1000 users, ultimately depends on whether this additional revenue offsets the advertising costs. Based on the results of A/B testing and an economic analysis, the next step is to decide whether to continue with this ad campaign, revert to using PSAs, or explore alternative advertising strategies."
      ],
      "metadata": {
        "id": "pCm7PEeXDQAM"
      }
    }
  ]
}